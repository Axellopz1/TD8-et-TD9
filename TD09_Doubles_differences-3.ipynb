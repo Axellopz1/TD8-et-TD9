{
 "cells": [
  {
   "cell_type": "markdown",
   "metadata": {},
   "source": [
    "# DOUBLES DIFFERENCES\n",
    "\n",
    "Cette application est inspirée de l'article de K. A. Kiel and K. T. McClain (1995) : \"The Effect of an Incinerator Siting on Housing Appreciation Rates\", *Journal of Urban Economics*, 37(3):311-323, et du manuel de Wooldridge (voir bibliographie du cours).\n",
    "\n",
    "Kiel et McClain (1995) étudient l'impact de l'environnement sur le prix de l'immobilier. Pour cela, elles étudient l'effet de la construction d'un nouvel incinérateur de déchets sur la valeur de l'immobilier dans une ville du Massachussetts. \n",
    "\n",
    "Le projet s'ébruite en 1978, la construction devient effective en 1981, et l'incinérateur fonctionne à partir de 1985. Nous utilisons ici des données simplifiées, disponibles sur internet : kielmc.raw. Les données sont également dans le répertoire : **TD9_kielmc.rds**"
   ]
  },
  {
   "cell_type": "markdown",
   "metadata": {},
   "source": [
    "# Introduction"
   ]
  },
  {
   "cell_type": "markdown",
   "metadata": {},
   "source": [
    "Comment s'appelle ce type d'évènement, mobilisé dans les études d'économétrie appliquée ?"
   ]
  },
  {
   "cell_type": "markdown",
   "metadata": {},
   "source": [
    "c'est une expérience naturelle, une quasi-expérience \n",
    "On va mesure l'effet de l'environement sur le prix de l'imobilier.\n",
    "\n",
    "On a besoins de plusieur informaiton : \n",
    "- dimension temporelle : prix affecté des la rumeurs : date clefs (1978) la rumeurs de la construction \n",
    "- dimension traitement/controle"
   ]
  },
  {
   "cell_type": "markdown",
   "metadata": {},
   "source": [
    "De quelles informations avons-nous besoin pour analyser l'impact de l'incinérateur sur la valeur de l'immobilier en double différence ? "
   ]
  },
  {
   "cell_type": "markdown",
   "metadata": {},
   "source": [
    "Quel est le résultat attendu ? "
   ]
  },
  {
   "cell_type": "markdown",
   "metadata": {},
   "source": [
    "On s'attend que le prix es maison proche de l'incinérateur baissse. Car c'est une polution visuel et environenemental. \n"
   ]
  },
  {
   "cell_type": "markdown",
   "metadata": {},
   "source": [
    "# 1. Les données"
   ]
  },
  {
   "cell_type": "markdown",
   "metadata": {},
   "source": [
    "Ouvrir les données : **TD9_kielmc.rds**."
   ]
  },
  {
   "cell_type": "code",
   "execution_count": 1,
   "metadata": {
    "scrolled": true
   },
   "outputs": [
    {
     "data": {
      "text/html": [
       "<table class=\"dataframe\">\n",
       "<caption>A data.frame: 6 × 12</caption>\n",
       "<thead>\n",
       "\t<tr><th></th><th scope=col>year</th><th scope=col>age</th><th scope=col>nbh</th><th scope=col>cbd</th><th scope=col>intst</th><th scope=col>price</th><th scope=col>rooms</th><th scope=col>area</th><th scope=col>land</th><th scope=col>baths</th><th scope=col>dist</th><th scope=col>wind</th></tr>\n",
       "\t<tr><th></th><th scope=col>&lt;dbl&gt;</th><th scope=col>&lt;dbl&gt;</th><th scope=col>&lt;dbl&gt;</th><th scope=col>&lt;dbl&gt;</th><th scope=col>&lt;dbl&gt;</th><th scope=col>&lt;dbl&gt;</th><th scope=col>&lt;dbl&gt;</th><th scope=col>&lt;dbl&gt;</th><th scope=col>&lt;dbl&gt;</th><th scope=col>&lt;dbl&gt;</th><th scope=col>&lt;dbl&gt;</th><th scope=col>&lt;dbl&gt;</th></tr>\n",
       "</thead>\n",
       "<tbody>\n",
       "\t<tr><th scope=row>1</th><td>1978</td><td>48</td><td>4</td><td>3000</td><td>1000</td><td>60000</td><td>7</td><td>1660</td><td> 4578</td><td>1</td><td>10700</td><td>3</td></tr>\n",
       "\t<tr><th scope=row>2</th><td>1978</td><td>83</td><td>4</td><td>4000</td><td>1000</td><td>40000</td><td>6</td><td>2612</td><td> 8370</td><td>2</td><td>11000</td><td>3</td></tr>\n",
       "\t<tr><th scope=row>3</th><td>1978</td><td>58</td><td>4</td><td>4000</td><td>1000</td><td>34000</td><td>6</td><td>1144</td><td> 5000</td><td>1</td><td>11500</td><td>3</td></tr>\n",
       "\t<tr><th scope=row>4</th><td>1978</td><td>11</td><td>4</td><td>4000</td><td>1000</td><td>63900</td><td>5</td><td>1136</td><td>10000</td><td>1</td><td>11900</td><td>3</td></tr>\n",
       "\t<tr><th scope=row>5</th><td>1978</td><td>48</td><td>4</td><td>4000</td><td>2000</td><td>44000</td><td>5</td><td>1868</td><td>10000</td><td>1</td><td>12100</td><td>3</td></tr>\n",
       "\t<tr><th scope=row>6</th><td>1978</td><td>78</td><td>4</td><td>3000</td><td>2000</td><td>46000</td><td>6</td><td>1780</td><td> 9500</td><td>3</td><td>10000</td><td>3</td></tr>\n",
       "</tbody>\n",
       "</table>\n"
      ],
      "text/latex": [
       "A data.frame: 6 × 12\n",
       "\\begin{tabular}{r|llllllllllll}\n",
       "  & year & age & nbh & cbd & intst & price & rooms & area & land & baths & dist & wind\\\\\n",
       "  & <dbl> & <dbl> & <dbl> & <dbl> & <dbl> & <dbl> & <dbl> & <dbl> & <dbl> & <dbl> & <dbl> & <dbl>\\\\\n",
       "\\hline\n",
       "\t1 & 1978 & 48 & 4 & 3000 & 1000 & 60000 & 7 & 1660 &  4578 & 1 & 10700 & 3\\\\\n",
       "\t2 & 1978 & 83 & 4 & 4000 & 1000 & 40000 & 6 & 2612 &  8370 & 2 & 11000 & 3\\\\\n",
       "\t3 & 1978 & 58 & 4 & 4000 & 1000 & 34000 & 6 & 1144 &  5000 & 1 & 11500 & 3\\\\\n",
       "\t4 & 1978 & 11 & 4 & 4000 & 1000 & 63900 & 5 & 1136 & 10000 & 1 & 11900 & 3\\\\\n",
       "\t5 & 1978 & 48 & 4 & 4000 & 2000 & 44000 & 5 & 1868 & 10000 & 1 & 12100 & 3\\\\\n",
       "\t6 & 1978 & 78 & 4 & 3000 & 2000 & 46000 & 6 & 1780 &  9500 & 3 & 10000 & 3\\\\\n",
       "\\end{tabular}\n"
      ],
      "text/markdown": [
       "\n",
       "A data.frame: 6 × 12\n",
       "\n",
       "| <!--/--> | year &lt;dbl&gt; | age &lt;dbl&gt; | nbh &lt;dbl&gt; | cbd &lt;dbl&gt; | intst &lt;dbl&gt; | price &lt;dbl&gt; | rooms &lt;dbl&gt; | area &lt;dbl&gt; | land &lt;dbl&gt; | baths &lt;dbl&gt; | dist &lt;dbl&gt; | wind &lt;dbl&gt; |\n",
       "|---|---|---|---|---|---|---|---|---|---|---|---|---|\n",
       "| 1 | 1978 | 48 | 4 | 3000 | 1000 | 60000 | 7 | 1660 |  4578 | 1 | 10700 | 3 |\n",
       "| 2 | 1978 | 83 | 4 | 4000 | 1000 | 40000 | 6 | 2612 |  8370 | 2 | 11000 | 3 |\n",
       "| 3 | 1978 | 58 | 4 | 4000 | 1000 | 34000 | 6 | 1144 |  5000 | 1 | 11500 | 3 |\n",
       "| 4 | 1978 | 11 | 4 | 4000 | 1000 | 63900 | 5 | 1136 | 10000 | 1 | 11900 | 3 |\n",
       "| 5 | 1978 | 48 | 4 | 4000 | 2000 | 44000 | 5 | 1868 | 10000 | 1 | 12100 | 3 |\n",
       "| 6 | 1978 | 78 | 4 | 3000 | 2000 | 46000 | 6 | 1780 |  9500 | 3 | 10000 | 3 |\n",
       "\n"
      ],
      "text/plain": [
       "  year age nbh cbd  intst price rooms area land  baths dist  wind\n",
       "1 1978 48  4   3000 1000  60000 7     1660  4578 1     10700 3   \n",
       "2 1978 83  4   4000 1000  40000 6     2612  8370 2     11000 3   \n",
       "3 1978 58  4   4000 1000  34000 6     1144  5000 1     11500 3   \n",
       "4 1978 11  4   4000 1000  63900 5     1136 10000 1     11900 3   \n",
       "5 1978 48  4   4000 2000  44000 5     1868 10000 1     12100 3   \n",
       "6 1978 78  4   3000 2000  46000 6     1780  9500 3     10000 3   "
      ]
     },
     "metadata": {},
     "output_type": "display_data"
    }
   ],
   "source": [
    "ds<-readRDS(file=\"TD9_kielmc\")\n",
    "head(ds)"
   ]
  },
  {
   "cell_type": "markdown",
   "metadata": {},
   "source": [
    "Consulter le codebook et répondre aux questions :\n",
    "![title](TD9_codebook.png) \n",
    "\n",
    "a) Quelle sera la variable dépendante ? \n",
    "\n",
    "b) Quelle sera la variable d'intérêt ?\n",
    "\n",
    "c) A quoi peuvent servir les autres variables ? Donner un exemple."
   ]
  },
  {
   "cell_type": "markdown",
   "metadata": {},
   "source": [
    "a) variable dépendante : prix de la maison \n",
    "\n",
    "b) la variable d'intérêt : celle où on veut mesure l'impact causal : distance à l'incinérateur. \n",
    "On aurait pu aussi utiliser wind : pollution dépend aussi du sens du vent \n",
    "\n",
    "c) Pour éviter le biais ou améliorer la précision de l'estimation"
   ]
  },
  {
   "cell_type": "markdown",
   "metadata": {},
   "source": [
    "Considérons que le travail de nettoyage des données a été fait. Quelles variables devrions-nous créer pour notre analyse : \n",
    "\n",
    "a) afin d'avoir un groupe de traitement et un groupe de contrôle ? *Indice : il faut définir les groupes de traitement/contrôle en fonction d'un seuil de distance à l'incinérateur : + ou - 5km soit 15840 pieds*.\n",
    "\n",
    "si on est a plus : c \n",
    "si on est à moins : t \n",
    "\n",
    "b) afin d'étudier l'effet de la distance sur la variation du prix exprimée non plus en niveau mais en pourcentage ? *Indice : penser à la transformation logarithmique*.\n",
    "\n",
    "on a plus besoins du prix mais du log du prix "
   ]
  },
  {
   "cell_type": "markdown",
   "metadata": {},
   "source": [
    "Créer ces 2 variables."
   ]
  },
  {
   "cell_type": "code",
   "execution_count": 2,
   "metadata": {},
   "outputs": [],
   "source": [
    "ds$lprice<-log(ds$price)"
   ]
  },
  {
   "cell_type": "code",
   "execution_count": 3,
   "metadata": {},
   "outputs": [],
   "source": [
    "ds$nearinc<-ifelse(ds$dist<15840, 1, 0)"
   ]
  },
  {
   "cell_type": "markdown",
   "metadata": {},
   "source": [
    "# 2. Analyses \"naïves\""
   ]
  },
  {
   "cell_type": "markdown",
   "metadata": {},
   "source": [
    "Nous commençons par une **analyse naïve avec données en coupe** : nous utilisons les données de 1981 seulement et estimons : $lprice^{81}_{i} = \\alpha^{81} + \\gamma^{81} nearinc_{i} + u^{81}_{i}$. Interpréter."
   ]
  },
  {
   "cell_type": "code",
   "execution_count": 4,
   "metadata": {},
   "outputs": [],
   "source": [
    "naive1<-lm(lprice~nearinc, data=ds[ds$year==1981,])"
   ]
  },
  {
   "cell_type": "code",
   "execution_count": 5,
   "metadata": {},
   "outputs": [
    {
     "data": {
      "text/plain": [
       "\n",
       "Call:\n",
       "lm(formula = lprice ~ nearinc, data = ds[ds$year == 1981, ])\n",
       "\n",
       "Residuals:\n",
       "     Min       1Q   Median       3Q      Max \n",
       "-0.86626 -0.21706  0.02718  0.24035  1.16633 \n",
       "\n",
       "Coefficients:\n",
       "            Estimate Std. Error t value Pr(>|t|)    \n",
       "(Intercept) 11.74242    0.03428 342.543  < 2e-16 ***\n",
       "nearinc     -0.40257    0.06459  -6.233 5.06e-09 ***\n",
       "---\n",
       "Signif. codes:  0 ‘***’ 0.001 ‘**’ 0.01 ‘*’ 0.05 ‘.’ 0.1 ‘ ’ 1\n",
       "\n",
       "Residual standard error: 0.3462 on 140 degrees of freedom\n",
       "Multiple R-squared:  0.2172,\tAdjusted R-squared:  0.2116 \n",
       "F-statistic: 38.85 on 1 and 140 DF,  p-value: 5.061e-09\n"
      ]
     },
     "metadata": {},
     "output_type": "display_data"
    }
   ],
   "source": [
    "summary(naive1)"
   ]
  },
  {
   "cell_type": "markdown",
   "metadata": {},
   "source": [
    "en 1981, les maison qui sont situées dans un rayon de <5KM se vendent 40% moins cher. "
   ]
  },
  {
   "cell_type": "markdown",
   "metadata": {},
   "source": [
    "Quelle est la condition pour que ce résultat puisse être interprété comme une causalité ? Pourquoi peut-on penser que cette condition n'est pas remplie ? "
   ]
  },
  {
   "cell_type": "markdown",
   "metadata": {},
   "source": [
    "Pour une causalité : il faudrait que les maison : en absence de l'incinérateur : soit à l'origine de la meme valeur en moyenne : proche ou eloigne de ce dernier. \n",
    "\n",
    "Ce n'est pas le cas on immplémente les incinérateur la ou les maison sont moins chers : la ou il y a peux de votant "
   ]
  },
  {
   "cell_type": "markdown",
   "metadata": {},
   "source": [
    "Comment tester cela avec les données dont nous disposons ? Effectuer le test sur deux variables qui vous sembleront pertinentes. Conclure."
   ]
  },
  {
   "cell_type": "markdown",
   "metadata": {},
   "source": [
    "On peut le verifier : test d'egalité de moyenne : sur les caractéristique des maisons. \n",
    "ex : verifier : maisons plus ou oins vielle : meme nombre de peices : en fonction de la distance de l'incinérateur.\n"
   ]
  },
  {
   "cell_type": "code",
   "execution_count": 6,
   "metadata": {},
   "outputs": [
    {
     "data": {
      "text/plain": [
       "\n",
       "\tWelch Two Sample t-test\n",
       "\n",
       "data:  age by nearinc\n",
       "t = -6.0601, df = 158.48, p-value = 9.564e-09\n",
       "alternative hypothesis: true difference in means between group 0 and group 1 is not equal to 0\n",
       "95 percent confidence interval:\n",
       " -31.86424 -16.19965\n",
       "sample estimates:\n",
       "mean in group 0 mean in group 1 \n",
       "       10.82222        34.85417 \n"
      ]
     },
     "metadata": {},
     "output_type": "display_data"
    },
    {
     "data": {
      "text/plain": [
       "\n",
       "\tWelch Two Sample t-test\n",
       "\n",
       "data:  rooms by nearinc\n",
       "t = 6.2777, df = 143.95, p-value = 3.816e-09\n",
       "alternative hypothesis: true difference in means between group 0 and group 1 is not equal to 0\n",
       "95 percent confidence interval:\n",
       " 0.4910195 0.9423138\n",
       "sample estimates:\n",
       "mean in group 0 mean in group 1 \n",
       "       6.800000        6.083333 \n"
      ]
     },
     "metadata": {},
     "output_type": "display_data"
    }
   ],
   "source": [
    "t.test(age~nearinc, data=ds)\n",
    "t.test(rooms~nearinc, data=ds)"
   ]
  },
  {
   "cell_type": "markdown",
   "metadata": {},
   "source": [
    "premier test : \n",
    "- dans le goupe eloigne : maison 10 ages \n",
    "- dans le groupe proche : maison 34 age \n",
    "c'est significatif , pvalue proche de 0\n",
    "\n",
    "deuxième test: \n",
    "- dans le goupe eloigne : maison plus grande \n",
    "- dans le groupe proche : maison moins grande \n",
    "c'est significatif , pvalue proche de 0\n",
    "\n",
    "donc les maisons sont differentes dans les deux zone. Donc on ne peut pas pensser le resultat comme un causalité , il semblerait que le groue de controle ne soit pas le meilleur contre-factuel pour le groupe de traitement. "
   ]
  },
  {
   "cell_type": "markdown",
   "metadata": {},
   "source": [
    "**Second type d'analyse naïve** : Nous pensons avoir identifié un meilleur contrefactuel pour les maisons proches d'un incinérateur : ces mêmes maisons, avant que l'incinérateur ne soit contruit. Quelle sera la régression ? Estimer."
   ]
  },
  {
   "cell_type": "markdown",
   "metadata": {},
   "source": [
    "on regarde sous-échantillon des traités et on fait estimateur avant-après. \n",
    "\n",
    "Biaisé car tient compte de l'impact de la construction dans le temps et tout les austre facteurs qui influences les prix dans le temps. "
   ]
  },
  {
   "cell_type": "code",
   "execution_count": 7,
   "metadata": {},
   "outputs": [
    {
     "data": {
      "text/plain": [
       "\n",
       "Call:\n",
       "lm(formula = lprice ~ factor(year), data = ds[ds$nearinc == 1, \n",
       "    ])\n",
       "\n",
       "Residuals:\n",
       "    Min      1Q  Median      3Q     Max \n",
       "-0.7185 -0.2368 -0.1069  0.1572  1.6660 \n",
       "\n",
       "Coefficients:\n",
       "                 Estimate Std. Error t value Pr(>|t|)    \n",
       "(Intercept)      10.94550    0.05599 195.489  < 2e-16 ***\n",
       "factor(year)1981  0.39435    0.08674   4.546 1.62e-05 ***\n",
       "---\n",
       "Signif. codes:  0 ‘***’ 0.001 ‘**’ 0.01 ‘*’ 0.05 ‘.’ 0.1 ‘ ’ 1\n",
       "\n",
       "Residual standard error: 0.419 on 94 degrees of freedom\n",
       "Multiple R-squared:  0.1802,\tAdjusted R-squared:  0.1715 \n",
       "F-statistic: 20.67 on 1 and 94 DF,  p-value: 1.625e-05\n"
      ]
     },
     "metadata": {},
     "output_type": "display_data"
    }
   ],
   "source": [
    "naive2<-lm(lprice~factor(year),data=ds[ds$nearinc==1,])\n",
    "summary(naive2)"
   ]
  },
  {
   "cell_type": "markdown",
   "metadata": {},
   "source": [
    "# 3. Doubles différences"
   ]
  },
  {
   "cell_type": "markdown",
   "metadata": {},
   "source": [
    "Ecrire et estimer par MCO la régression par double différence simple qui va permettre de déterminer si la construction de l'incinérateur a un impact sur la valeur immobilière des maisons. "
   ]
  },
  {
   "cell_type": "markdown",
   "metadata": {},
   "source": [
    "Doubles différence simple: on mets siplement comme explicative : les ellements de la double différence. "
   ]
  },
  {
   "cell_type": "code",
   "execution_count": 8,
   "metadata": {},
   "outputs": [
    {
     "data": {
      "text/plain": [
       "\n",
       "Call:\n",
       "lm(formula = lprice ~ nearinc + factor(year) + nearinc:factor(year), \n",
       "    data = ds)\n",
       "\n",
       "Residuals:\n",
       "     Min       1Q   Median       3Q      Max \n",
       "-1.11957 -0.20328  0.02226  0.18909  1.66604 \n",
       "\n",
       "Coefficients:\n",
       "                         Estimate Std. Error t value Pr(>|t|)    \n",
       "(Intercept)              11.28542    0.03051 369.839  < 2e-16 ***\n",
       "nearinc                  -0.33992    0.05456  -6.231 1.48e-09 ***\n",
       "factor(year)1981          0.45700    0.04532  10.084  < 2e-16 ***\n",
       "nearinc:factor(year)1981 -0.06265    0.08344  -0.751    0.453    \n",
       "---\n",
       "Signif. codes:  0 ‘***’ 0.001 ‘**’ 0.01 ‘*’ 0.05 ‘.’ 0.1 ‘ ’ 1\n",
       "\n",
       "Residual standard error: 0.3384 on 317 degrees of freedom\n",
       "Multiple R-squared:  0.4091,\tAdjusted R-squared:  0.4035 \n",
       "F-statistic: 73.15 on 3 and 317 DF,  p-value: < 2.2e-16\n"
      ]
     },
     "metadata": {},
     "output_type": "display_data"
    }
   ],
   "source": [
    "dd<-lm(lprice~nearinc+factor(year)+nearinc:factor(year), data=ds)\n",
    "summary(dd)"
   ]
  },
  {
   "cell_type": "markdown",
   "metadata": {},
   "source": [
    "Interpréter les coefficients obtenus."
   ]
  },
  {
   "cell_type": "markdown",
   "metadata": {},
   "source": [
    "la constante : nous donne le prix moyen d'une maison hors du rayon de 5km en 1978\n",
    "\n",
    "beta : associé a facto(year): nous le changement moyen des prix des maison eloigné de l'incinerateur ayant eu lieu entre 1978 et 1981. Les maisons a plus de 5km on prix 45% entre 78 et 81\n",
    "\n",
    "gamma : nous donnes la diference de prix moyenne entre les deux zones avant la présence de l'incénareteur. Avant la presence de l'incinareteur les prix etati différent de 33%. Les prix etaite infeireur de 33% dans les zones de 5KM d'un futur incinerateur que des zones plus eloigné\n",
    "\n",
    "coeficient dinteraction : date:statutdanstrateiment : nous donne l'effet sur le prix d'etre proche de l'incinerteur en 81. Il donne l'effet du traitemnt ( construction de l'incinérateur ). \n",
    "\n",
    "\n",
    "Donc : les prix on augmente de 45% pour les autres maisons , le prix des maison a proximité d'un incinerateur a augemnte de (45-6). C'est l'effet additionel d'etre dans le rayon de 5KM que de ne pas l'etre. \n",
    "\n",
    "\n",
    "Ces coeficient , ne sont pas significatif. Pvalue trop elleve , coeficient zero tatistique.  on ne pas rehetere l'hypothès que les tansaction se font a prix egal, avec ou sans l'incinerateur. \n"
   ]
  },
  {
   "cell_type": "markdown",
   "metadata": {},
   "source": [
    "Estimer la régression : $price^{78}_{i} = \\alpha^{78} + \\gamma^{78} nearinc_{i} + u^{78}_{i}$ pour l'année 1978."
   ]
  },
  {
   "cell_type": "code",
   "execution_count": 9,
   "metadata": {},
   "outputs": [
    {
     "data": {
      "text/plain": [
       "\n",
       "Call:\n",
       "lm(formula = lprice ~ nearinc, data = ds[ds$year == 1978, ])\n",
       "\n",
       "Residuals:\n",
       "     Min       1Q   Median       3Q      Max \n",
       "-1.11957 -0.18781  0.01555  0.15439  1.66604 \n",
       "\n",
       "Coefficients:\n",
       "            Estimate Std. Error t value Pr(>|t|)    \n",
       "(Intercept) 11.28542    0.02995 376.845  < 2e-16 ***\n",
       "nearinc     -0.33992    0.05354  -6.349 1.77e-09 ***\n",
       "---\n",
       "Signif. codes:  0 ‘***’ 0.001 ‘**’ 0.01 ‘*’ 0.05 ‘.’ 0.1 ‘ ’ 1\n",
       "\n",
       "Residual standard error: 0.3321 on 177 degrees of freedom\n",
       "Multiple R-squared:  0.1855,\tAdjusted R-squared:  0.1809 \n",
       "F-statistic: 40.31 on 1 and 177 DF,  p-value: 1.769e-09\n"
      ]
     },
     "metadata": {},
     "output_type": "display_data"
    }
   ],
   "source": [
    "naive3<-lm(lprice~nearinc, data=ds[ds$year==1978,])\n",
    "summary(naive3) \n",
    "\n",
    "#difference pre-traitement ce qui se passe avant la présence de l'incinérateur "
   ]
  },
  {
   "cell_type": "markdown",
   "metadata": {},
   "source": [
    "la dif pré-traitement est de 33% commme vu précédemment."
   ]
  },
  {
   "cell_type": "markdown",
   "metadata": {},
   "source": [
    "En reprenant le résultat de la première estimation naïve (partie 1), recalculez le coefficient de double différence. "
   ]
  },
  {
   "cell_type": "markdown",
   "metadata": {},
   "source": [
    "dd c'est l'effet du temps sur groupe de traitement moins la difference de tendance de groupe de contrôle. \n",
    "\n",
    "t-c en 81 : -39% \n",
    "t-c en 78 : -33% \n",
    "\n",
    "dd : -39% - (-33%) = -6%"
   ]
  },
  {
   "cell_type": "code",
   "execution_count": 10,
   "metadata": {},
   "outputs": [
    {
     "data": {
      "text/html": [
       "<strong>nearinc:</strong> -0.062649022017921"
      ],
      "text/latex": [
       "\\textbf{nearinc:} -0.062649022017921"
      ],
      "text/markdown": [
       "**nearinc:** -0.062649022017921"
      ],
      "text/plain": [
       "    nearinc \n",
       "-0.06264902 "
      ]
     },
     "metadata": {},
     "output_type": "display_data"
    }
   ],
   "source": [
    "coef(naive1)[2]-coef(naive3)[2]"
   ]
  },
  {
   "cell_type": "markdown",
   "metadata": {},
   "source": [
    "effet non significatif : ameliorer l'estimation : avec variable de controles"
   ]
  },
  {
   "cell_type": "markdown",
   "metadata": {},
   "source": [
    "# 4. Améliorer l'estimation"
   ]
  },
  {
   "cell_type": "markdown",
   "metadata": {},
   "source": [
    "Quel est l'intérêt d'introduire des variables de contrôle dans notre cadre ?"
   ]
  },
  {
   "cell_type": "markdown",
   "metadata": {},
   "source": [
    "age de la maison,age^2,la taille de la maison, taille du terrain , nombre de piece, nombre de salle de bain , distance au voies de communication importante "
   ]
  },
  {
   "cell_type": "markdown",
   "metadata": {},
   "source": [
    "Linteret : \n",
    "- car on a biais de slection : lié à la composition de l'echantillon\n",
    "Il est possible que les maisons qui se vendent en 1978 pres de l'incinérateur n'est pas les memes caracteriqitique que celle qui se vendent en 81. \n",
    "Ex : les plus roches : plus grane maisosn : qui parten en premier. \n",
    "\n",
    "C'est un effet de composition : le groupe de traitement a changer de composition entre avant et apres : explique le resultat en partis : biais lie a la composition de l'echantillon. \n",
    "\n",
    "Donc l'effet de la constructin de l'incinérateur sur le prix des maisons va etre minimisé; car en réalaité les prix vont etre plus elleve car plus grande maison qui partent. \n",
    "\n",
    "- amméliorere precision de l'estimation : \n",
    "On peut ajouter des variables qui expliquenet le prix et mechaniquement avoir un impùact reducteur sur les erreuts types et mieux explqiuer les coeficients. \n",
    "\n"
   ]
  },
  {
   "cell_type": "markdown",
   "metadata": {},
   "source": [
    "Parmi les variables du *codebook*, quelles variables peuvent être particulièrement intéressantes à introduire ? "
   ]
  },
  {
   "cell_type": "markdown",
   "metadata": {},
   "source": [
    "l'âge de la maison"
   ]
  },
  {
   "cell_type": "markdown",
   "metadata": {},
   "source": [
    "Estimer le modèle de doubles différences par MCO avec ces variables de contrôle et en introduisant l'âge de la maison *age* de manière non linéaire comme un polynôme de degré 2: **poly(age,2)**. "
   ]
  },
  {
   "cell_type": "code",
   "execution_count": 11,
   "metadata": {},
   "outputs": [
    {
     "data": {
      "text/plain": [
       "\n",
       "Call:\n",
       "lm(formula = lprice ~ nearinc + factor(year) + nearinc:factor(year) + \n",
       "    poly(age, 2) + area + land + rooms + baths + intst, data = ds)\n",
       "\n",
       "Residuals:\n",
       "     Min       1Q   Median       3Q      Max \n",
       "-1.21669 -0.09372  0.01157  0.10698  0.68553 \n",
       "\n",
       "Coefficients:\n",
       "                           Estimate Std. Error t value Pr(>|t|)    \n",
       "(Intercept)               1.027e+01  1.116e-01  91.967  < 2e-16 ***\n",
       "nearinc                  -3.464e-02  4.647e-02  -0.745 0.456621    \n",
       "factor(year)1981          4.026e-01  2.921e-02  13.786  < 2e-16 ***\n",
       "poly(age, 2)1            -2.087e+00  2.641e-01  -7.901 4.86e-14 ***\n",
       "poly(age, 2)2             1.259e+00  2.924e-01   4.306 2.23e-05 ***\n",
       "area                      1.840e-04  2.406e-05   7.645 2.64e-13 ***\n",
       "land                      9.223e-07  3.243e-07   2.844 0.004752 ** \n",
       "rooms                     5.276e-02  1.734e-02   3.044 0.002538 ** \n",
       "baths                     1.030e-01  2.694e-02   3.825 0.000158 ***\n",
       "intst                    -3.553e-06  2.049e-06  -1.734 0.083866 .  \n",
       "nearinc:factor(year)1981 -9.252e-02  5.204e-02  -1.778 0.076429 .  \n",
       "---\n",
       "Signif. codes:  0 ‘***’ 0.001 ‘**’ 0.01 ‘*’ 0.05 ‘.’ 0.1 ‘ ’ 1\n",
       "\n",
       "Residual standard error: 0.2047 on 310 degrees of freedom\n",
       "Multiple R-squared:  0.7885,\tAdjusted R-squared:  0.7817 \n",
       "F-statistic: 115.6 on 10 and 310 DF,  p-value: < 2.2e-16\n"
      ]
     },
     "metadata": {},
     "output_type": "display_data"
    }
   ],
   "source": [
    "dd_c<-lm(lprice~nearinc+factor(year)+nearinc:factor(year)+poly(age,2)+area+land+rooms+baths+intst,data=ds)\n",
    "summary(dd_c)"
   ]
  },
  {
   "cell_type": "markdown",
   "metadata": {},
   "source": [
    "Interprétez les résultats, et notamment l'effet de l'âge."
   ]
  },
  {
   "cell_type": "markdown",
   "metadata": {},
   "source": [
    "il etait important d'introduire des variabels de controles car le coeficient de la varibles d'interet: coefieicnet d'intereaction : devient significatif au seuil de 10%. \n",
    "\n",
    "Donc , du fait de la presence du nouvel incinérateur le prix des maison alontour on perdu pres de 10% de leur valeur. Ici , on a une relation causal entre la presence de l'incinérateu et leprix des maisons aux allontours. \n",
    "\n",
    "\n",
    "On voit que ces variables on un pouvoir signidficatif important le R2, est passéà 0,7. \n",
    "\n",
    "l'age influence le prix de manière quadratique , cad que le prix de vente diminue avec l'age mais de mois en moins negatif a mesure que l'age de la maison avance. \n",
    "\n",
    "Plus la maison, terrain, nombre de piece , nombres de salle de bain est grands plus le prix est ellevé. \n",
    "\n",
    "\n"
   ]
  },
  {
   "cell_type": "markdown",
   "metadata": {},
   "source": [
    "Représentez graphiquement l'effet de l'âge sur le prix. "
   ]
  },
  {
   "cell_type": "code",
   "execution_count": 24,
   "metadata": {},
   "outputs": [
    {
     "data": {
      "image/png": "[encoded data removed]",
      "text/plain": [
       "plot without title"
      ]
     },
     "metadata": {
      "image/png": {
       "height": 420,
       "width": 420
      }
     },
     "output_type": "display_data"
    },
    {
     "data": {
      "text/html": [
       "<strong>poly(age, 2)2:</strong> 1.206722625399"
      ],
      "text/latex": [
       "\\textbf{poly(age, 2)2:} 1.206722625399"
      ],
      "text/markdown": [
       "**poly(age, 2)2:** 1.206722625399"
      ],
      "text/plain": [
       "poly(age, 2)2 \n",
       "     1.206723 "
      ]
     },
     "metadata": {},
     "output_type": "display_data"
    },
    {
     "data": {
      "image/png": "[encoded data removed]",
      "text/plain": [
       "plot without title"
      ]
     },
     "metadata": {
      "image/png": {
       "height": 420,
       "width": 420
      }
     },
     "output_type": "display_data"
    }
   ],
   "source": [
    "x<-seq(0,20,1)\n",
    "plot(x,coef(dd_c)[4]*x+coef(dd_c)[5]*x*x)#terme au caré donc x*x\n",
    "plot(x,coef(dd_c)[4]+2*coef(dd_c)[5]*x)#effet marginal de passé de l'année 1 à 2 etc, on fait la dérivée de la première fonction\n",
    "#point de retournement : on cherche l'âge de la maison (x) tel que l'effet marginal soit égal à 0\n",
    "(+2*coef(dd_c)[5])/(-coef(dd_c)[4])"
   ]
  },
  {
   "cell_type": "markdown",
   "metadata": {},
   "source": [
    "effet marginal pour une année suplementaire , une maison qui à 5 an : quand elle aura 6 ans l'effet margial sur le prix sera de +12%. Plus l'age monte , plus l'effet marginal est important. "
   ]
  },
  {
   "cell_type": "markdown",
   "metadata": {},
   "source": [
    "# 5. Tester la robustesse des résultats"
   ]
  },
  {
   "cell_type": "markdown",
   "metadata": {},
   "source": [
    "Quelle est l'hypothèse qui conditionne la validité de l'estimateur par double différence ? "
   ]
  },
  {
   "cell_type": "markdown",
   "metadata": {},
   "source": [
    "C'est l'hypothèse des tendances parallèles : en l'absance d'incinerateru : le prix des deux groupes de maison : aurait du evolue de la meme manière "
   ]
  },
  {
   "cell_type": "markdown",
   "metadata": {},
   "source": [
    "Peut-on tester cette hypothèse directement ?"
   ]
  },
  {
   "cell_type": "markdown",
   "metadata": {},
   "source": [
    "On ne peut jamais tester formelement cette hypothèse car on n'oberve pas la meme maison a proximité et hors de la zone de l'incinérateur. La maison ne peut pas etre une traité et un controle au meme moment. "
   ]
  },
  {
   "cell_type": "markdown",
   "metadata": {},
   "source": [
    "Quelles sont les 3 manières de convaincre votre lecteur que l'hypothèse est bien validée ? Avez-vous des idées pour implémenter ces différents tests de robustesse ?"
   ]
  },
  {
   "cell_type": "markdown",
   "metadata": {},
   "source": [
    "Les 3 tests : \n",
    "\n",
    "- la falcification ou test placebo  \n",
    "- utiliser un groupe temoin diferents \n",
    "- replique la meme analyse avec d'autre varible dependante : qui elle ne devrait pas etre affeecté \n",
    "\n",
    "- placébo: année précédente non dispo\n",
    "- témoin dif: faire varier rayon le rayon de definition de notre variable nearinc : et on regarde si le resultat tient\n",
    "- répplication: voir si caracterisitque des logements ne change pas : en remplaceant le prix par les differentes caracteristiques. \n",
    "- placebo : reste le plus classique : avec d'autre données des années précedentes"
   ]
  },
  {
   "cell_type": "markdown",
   "metadata": {},
   "source": [
    "On réussit à trouver d'autres données pour les années précédentes: 1976 et 1974. Ces données se trouvent dans le fichier simulé : **TD9_kielmc_generated_forplacebo**.\n",
    "\n",
    "On propose donc un test placebo. \n",
    "\n",
    "a) Ouvrir ces données. "
   ]
  },
  {
   "cell_type": "code",
   "execution_count": 30,
   "metadata": {},
   "outputs": [],
   "source": [
    "dsp<-readRDS(\"TD9_kielmc_generated_forplacebo\")"
   ]
  },
  {
   "cell_type": "markdown",
   "metadata": {},
   "source": [
    "b) On réalise d'abord le test placebo visuel en présentant l'évolution du prix moyen des maisons *price* dans le temps graphiquement, selon si les maisons sont proches ou loin de l'incinérateur *nearinc*.  "
   ]
  },
  {
   "cell_type": "code",
   "execution_count": 31,
   "metadata": {
    "scrolled": true,
    "tags": []
   },
   "outputs": [
    {
     "data": {
      "text/plain": [
       "   Min. 1st Qu.  Median    Mean 3rd Qu.    Max. \n",
       " 0.0000  0.0000  0.0000  0.2976  1.0000  1.0000 "
      ]
     },
     "metadata": {},
     "output_type": "display_data"
    },
    {
     "data": {
      "text/html": [
       "<style>\n",
       ".dl-inline {width: auto; margin:0; padding: 0}\n",
       ".dl-inline>dt, .dl-inline>dd {float: none; width: auto; display: inline-block}\n",
       ".dl-inline>dt::after {content: \":\\0020\"; padding-right: .5ex}\n",
       ".dl-inline>dt:not(:first-of-type) {padding-left: .5ex}\n",
       "</style><dl class=dl-inline><dt>Eloigné</dt><dd>446</dd><dt>Proche</dt><dd>189</dd></dl>\n"
      ],
      "text/latex": [
       "\\begin{description*}\n",
       "\\item[Eloigné] 446\n",
       "\\item[Proche] 189\n",
       "\\end{description*}\n"
      ],
      "text/markdown": [
       "Eloigné\n",
       ":   446Proche\n",
       ":   189\n",
       "\n"
      ],
      "text/plain": [
       "Eloigné  Proche \n",
       "    446     189 "
      ]
     },
     "metadata": {},
     "output_type": "display_data"
    },
    {
     "name": "stderr",
     "output_type": "stream",
     "text": [
      "No summary function supplied, defaulting to `mean_se()\n",
      "\n"
     ]
    },
    {
     "data": {
      "image/png": "[encoded data removed]",
      "text/plain": [
       "plot without title"
      ]
     },
     "metadata": {
      "image/png": {
       "height": 420,
       "width": 420
      }
     },
     "output_type": "display_data"
    }
   ],
   "source": [
    "#test visuel : \n",
    "library(ggplot2)\n",
    "summary(dsp$nearinc)\n",
    "dsp$nearinc<-factor(dsp$nearinc, levels=c(0,1), labels=c(\"Eloigné\",\"Proche\"))\n",
    "summary(dsp$nearinc)\n",
    "ggplot(dsp, aes(x=year, y=price, color = nearinc)) +\n",
    "    stat_summary(geom = 'line') +\n",
    "    geom_vline(xintercept = 1978) + xlab(\"Années\") + ylab(\"Prix moyen des maisons\")"
   ]
  },
  {
   "cell_type": "markdown",
   "metadata": {},
   "source": [
    "c) On estime formellement une régression placebo sur le sous-échantillon de 1974-1976."
   ]
  },
  {
   "cell_type": "code",
   "execution_count": 32,
   "metadata": {},
   "outputs": [
    {
     "data": {
      "text/plain": [
       "\n",
       "Call:\n",
       "lm(formula = lprice ~ nearinc + factor(year) + nearinc:factor(year) + \n",
       "    poly(age, 2) + area + land + rooms + baths + intst, data = dsp[dsp$year < \n",
       "    1978, ])\n",
       "\n",
       "Residuals:\n",
       "     Min       1Q   Median       3Q      Max \n",
       "-15.4840  -0.1633   0.0307   0.3069   1.6362 \n",
       "\n",
       "Coefficients:\n",
       "                                 Estimate Std. Error t value Pr(>|t|)    \n",
       "(Intercept)                     8.014e+00  5.683e-01  14.102  < 2e-16 ***\n",
       "nearincProche                   6.768e-02  2.373e-01   0.285  0.77566    \n",
       "factor(year)1976                2.387e-02  1.491e-01   0.160  0.87292    \n",
       "poly(age, 2)1                  -6.813e+00  1.318e+00  -5.171 4.24e-07 ***\n",
       "poly(age, 2)2                   3.968e+00  1.463e+00   2.713  0.00705 ** \n",
       "area                            4.155e-04  1.221e-04   3.402  0.00076 ***\n",
       "land                            1.565e-06  1.637e-06   0.956  0.33964    \n",
       "rooms                           2.125e-01  8.773e-02   2.422  0.01603 *  \n",
       "baths                           1.650e-01  1.366e-01   1.208  0.22795    \n",
       "intst                          -8.168e-06  1.043e-05  -0.783  0.43402    \n",
       "nearincProche:factor(year)1976 -4.399e-01  2.684e-01  -1.639  0.10225    \n",
       "---\n",
       "Signif. codes:  0 ‘***’ 0.001 ‘**’ 0.01 ‘*’ 0.05 ‘.’ 0.1 ‘ ’ 1\n",
       "\n",
       "Residual standard error: 1.032 on 303 degrees of freedom\n",
       "Multiple R-squared:  0.3838,\tAdjusted R-squared:  0.3635 \n",
       "F-statistic: 18.87 on 10 and 303 DF,  p-value: < 2.2e-16\n"
      ]
     },
     "metadata": {},
     "output_type": "display_data"
    }
   ],
   "source": [
    "dd_p<-lm(lprice~nearinc+factor(year)+nearinc:factor(year)+poly(age,2)+area+land+rooms+baths+intst,data=dsp[dsp$year<1978,])\n",
    "summary(dd_p)"
   ]
  },
  {
   "cell_type": "markdown",
   "metadata": {},
   "source": [
    "coef d'intérêt est proche de 0 et pas significativement dif"
   ]
  },
  {
   "cell_type": "markdown",
   "metadata": {},
   "source": [
    "d) Conclure."
   ]
  },
  {
   "cell_type": "markdown",
   "metadata": {},
   "source": [
    "On remarque que le coeficient : est proche de zero et nest pas significativement fiferent de zero. \n",
    "test visuel et formel : sugere : hyp des tendances parallèles est valide, avant l'implantation de l'incenerateur : le quartier etatit deja moins bien évalué : mais les tendances d'évaluation des prix étaient les mêmes : jusqu'au moment de la construction de l'incinérateur ou la hausse de spris des t a tendance a monte plus que ceux des c. "
   ]
  }
 ],
 "metadata": {
  "kernelspec": {
   "display_name": "R",
   "language": "R",
   "name": "ir"
  },
  "language_info": {
   "codemirror_mode": "r",
   "file_extension": ".r",
   "mimetype": "text/x-r-source",
   "name": "R",
   "pygments_lexer": "r",
   "version": "4.2.1"
  }
 },
 "nbformat": 4,
 "nbformat_minor": 4
}
